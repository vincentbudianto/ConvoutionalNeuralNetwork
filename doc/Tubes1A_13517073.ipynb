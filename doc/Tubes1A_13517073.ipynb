{
 "metadata": {
  "language_info": {
   "codemirror_mode": {
    "name": "ipython",
    "version": 3
   },
   "file_extension": ".py",
   "mimetype": "text/x-python",
   "name": "python",
   "nbconvert_exporter": "python",
   "pygments_lexer": "ipython3",
   "version": "3.8.5-final"
  },
  "orig_nbformat": 2,
  "kernelspec": {
   "name": "python_defaultSpec_1600523849500",
   "display_name": "Python 3.8.5 64-bit"
  }
 },
 "nbformat": 4,
 "nbformat_minor": 2,
 "cells": [
  {
   "source": [
    "# Tugas Besar 1A IF4074 - Pembelajaran Mesin Lanjut\n",
    "------------------------------------------\n",
    "##### NIM/Nama  : 13517073/Rayza Mahendra | 13517131/Jan Meyer Saragih | 13517137/Vincent Budianto\n",
    "##### Nama file : Tubes1A_13517073.ipynb\n",
    "##### Topik     : CNN - Forward Propragation\n",
    "##### Tanggal   : 20 February 2020\n",
    "------------------------------------------"
   ],
   "cell_type": "markdown",
   "metadata": {}
  },
  {
   "source": [
    "## Penjelasan Kode"
   ],
   "cell_type": "markdown",
   "metadata": {}
  },
  {
   "source": [
    "### A. Convolution\n",
    "Proses convolution merupakan proses pertama dari convolution layer pada CNN. Pada tahap ini, input akan diextract dalam matriks-matriks.\n",
    "Proses convolution menerima variabel berupa:\n",
    "* image\n",
    "* paddingSize\n",
    "* filterSizeH\n",
    "* filterSizeW\n",
    "* strideSize\n",
    "* filters\n",
    "\n",
    "#### 1. padding(self)\n",
    "`Fungsi padding(self) memperbesar ukuran matriks dengan menambahkan 2x ukuran padding pada lebar (kanan dan kiri) dan tinggi (atas dan bawah) matriks input dan mengisinya dengan nilai 0.`\n",
    "\n",
    "#### 2. extract(self)\n",
    "`Fungsi extract(self) menghasilkan semua kemungkinan area gambar (setelah ditambahkan padding) berdasarkan ukuran filter dan ukuran stride.`\n",
    "\n",
    "#### 3. forward(self)\n",
    "`Fungsi forward(self) melakukan penerusan convolution menggunakan input yang diberikan dengan cara mengalikan matriks hasil fungsi extract(self) dengan matriks filter secara element-wise multiplication.`"
   ],
   "cell_type": "markdown",
   "metadata": {}
  },
  {
   "source": [
    "### B. Detector\n",
    "Proses detector memperkenalkan _nonlinearity_ ke sistem yang pada dasarnya baru saja menghitung operasi linier pada proses convolution. Proses detector menerima variabel berupa:\n",
    "* input\n",
    "* activation_function\n",
    "* leaky_slope\n",
    "\n",
    "#### 1. forward_activation(self, X)\n",
    "`Fungsi forward_activation(self, X) mengaktivasi nilai input X sesuai fungsi aktivasi yang dipakai.`\n",
    "\n",
    "#### 2. activate(self)\n",
    "`Fungsi activate(self) mengubah nilai setiap elemen pada matriks menjadi nilai yang sudah diaktivasi (hasil fungsi forward_activation(self, X)).`"
   ],
   "cell_type": "markdown",
   "metadata": {}
  },
  {
   "source": [
    "### C. Pooling\n",
    "Proses pooling bertujuan untuk mengurangi ukuran output dari proses convoltion sehingga filter dapat mengeksplorasi bagian gambar yang lebih besar untuk menangani kasus _overfitting_. Proses detector menerima variabel berupa:\n",
    "* filterWidth\n",
    "* filterHeight\n",
    "* stride\n",
    "* mode\n",
    "\n",
    "#### 1. __partitionInput(self, inputMatrix, startPosition)\n",
    "`Fungsi __partitionInput(self, inputMatrix, startPosition) mempartisi matriks berdasarkan ukuran filter pooling`\n",
    "\n",
    "#### 2. __maximizeFiltered(self, inputMatrix)\n",
    "`Fungsi __maximizeFiltered(self, inputMatrix) menghitung nilai maksimum untuk setiap patch pada feature map.`\n",
    "\n",
    "#### 3. __averageFiltered(self, inputMatrix)\n",
    "`Fungsi __averageFiltered(self, inputMatrix) menghitung nilai rata-rata untuk setiap patch pada feature map.`\n",
    "\n",
    "#### 4. pool(self, inputMatrix)\n",
    "`Fungsi pool(self, inputMatrix) menghasilkan matriks yang isinya berupa ringkasan dari matriks input.`"
   ],
   "cell_type": "markdown",
   "metadata": {}
  },
  {
   "source": [
    "### D. Convolution Layer\n",
    "\n",
    "#### 1. setConfigurationDefault(self, kernelSize)\n",
    "\n",
    "#### 2. executeConvolutionLayer(self)"
   ],
   "cell_type": "markdown",
   "metadata": {}
  },
  {
   "source": [
    "## Contoh Hasil Prediksi"
   ],
   "cell_type": "markdown",
   "metadata": {}
  },
  {
   "source": [
    "## Pembagian Tugas"
   ],
   "cell_type": "markdown",
   "metadata": {}
  },
  {
   "source": [
    "| NIM      | Nama              | Tugas                                                                  |\n",
    "|:--------:|:------------------|:-----------------------------------------------------------------------|\n",
    "| 13517073 | Rayza Mahendra    |  |\n",
    "| 13517131 | Jan Meyer Saragih |  |\n",
    "| 13517137 | Vincent Budianto  |  |"
   ],
   "cell_type": "markdown",
   "metadata": {}
  }
 ]
}