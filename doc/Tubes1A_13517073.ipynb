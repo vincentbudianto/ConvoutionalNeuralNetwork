{
 "cells": [
  {
   "cell_type": "markdown",
   "metadata": {},
   "source": [
    "# Tugas Besar 1A IF4074 - Pembelajaran Mesin Lanjut\n",
    "------------------------------------------\n",
    "##### NIM/Nama  : 13517073/Rayza Mahendra | 13517131/Jan Meyer Saragih | 13517137/Vincent Budianto\n",
    "##### Nama file : Tubes1A_13517073.ipynb\n",
    "##### Topik     : CNN - Forward Propragation\n",
    "##### Tanggal   : 20 February 2020\n",
    "------------------------------------------"
   ]
  },
  {
   "cell_type": "markdown",
   "metadata": {},
   "source": [
    "## &nbsp; I. Penjelasan Kode"
   ]
  },
  {
   "cell_type": "markdown",
   "metadata": {},
   "source": [
    "### A. Convolution\n",
    "Kelas Convolution berisi proses convolution merupakan proses pertama dari convolution layer pada CNN. Pada tahap ini, input akan diextract dalam matriks-matriks. Kelas convolution menerima variabel berupa:\n",
    "* image\n",
    "* paddingSize\n",
    "* filterSizeH\n",
    "* filterSizeW\n",
    "* strideSize\n",
    "* filters\n",
    "\n",
    "#### 1. padding(self)\n",
    "`Fungsi padding(self) memperbesar ukuran matriks dengan menambahkan 2x ukuran padding pada lebar (kanan dan kiri) dan tinggi (atas dan bawah) matriks input dan mengisinya dengan nilai 0.`\n",
    "\n",
    "#### 2. extract(self)\n",
    "`Fungsi extract(self) menghasilkan semua kemungkinan area gambar (setelah ditambahkan padding) berdasarkan ukuran filter dan ukuran stride.`\n",
    "\n",
    "#### 3. forward(self)\n",
    "`Fungsi forward(self) melakukan penerusan convolution menggunakan input yang diberikan dengan cara mengalikan matriks hasil fungsi extract(self) dengan matriks filter secara element-wise multiplication.`"
   ]
  },
  {
   "cell_type": "markdown",
   "metadata": {},
   "source": [
    "### B. Detector\n",
    "Kelas Detector berisi proses detector memperkenalkan _nonlinearity_ ke sistem yang pada dasarnya baru saja menghitung operasi linier pada proses convolution. Kelas detector menerima variabel berupa:\n",
    "* input\n",
    "* activation_function\n",
    "* leaky_slope\n",
    "\n",
    "#### 1. forward_activation(self, X)\n",
    "`Fungsi forward_activation(self, X) mengaktivasi nilai input X sesuai fungsi aktivasi yang dipakai.`\n",
    "\n",
    "#### 2. activate(self)\n",
    "`Fungsi activate(self) mengubah nilai setiap elemen pada matriks menjadi nilai yang sudah diaktivasi (hasil fungsi forward_activation(self, X)).`"
   ]
  },
  {
   "cell_type": "markdown",
   "metadata": {},
   "source": [
    "### C. Pooling\n",
    "Kelas Pooling berisi proses pooling yang bertujuan untuk mengurangi ukuran output dari proses convoltion sehingga filter dapat mengeksplorasi bagian gambar yang lebih besar untuk menangani kasus _overfitting_. Kelas detector menerima variabel berupa:\n",
    "* filterWidth\n",
    "* filterHeight\n",
    "* stride\n",
    "* mode\n",
    "\n",
    "#### 1. __partitionInput(self, inputMatrix, startPosition)\n",
    "`Fungsi __partitionInput(self, inputMatrix, startPosition) mempartisi matriks berdasarkan ukuran filter pooling`\n",
    "\n",
    "#### 2. __maximizeFiltered(self, inputMatrix)\n",
    "`Fungsi __maximizeFiltered(self, inputMatrix) menghitung nilai maksimum untuk setiap patch pada feature map.`\n",
    "\n",
    "#### 3. __averageFiltered(self, inputMatrix)\n",
    "`Fungsi __averageFiltered(self, inputMatrix) menghitung nilai rata-rata untuk setiap patch pada feature map.`\n",
    "\n",
    "#### 4. pool(self, inputMatrix)\n",
    "`Fungsi pool(self, inputMatrix) menghasilkan matriks yang isinya berupa ringkasan dari matriks input.`"
   ]
  },
  {
   "cell_type": "markdown",
   "metadata": {},
   "source": [
    "### D. ConvolutionLayer\n",
    "Kelas ConvolutionLayer merupakan kelas yang merepresentasikan Convolution Layer pada CNN. Kelas ConvolutionLayer menerima variabel berupa:\n",
    "* convolution\n",
    "* detector\n",
    "* pooling\n",
    "* inputs\n",
    "* outputs\n",
    "* inputMapper\n",
    "* connectionMapper\n",
    "\n",
    "#### 1. setConfigurationDefault(self, kernelSize)\n",
    "`Fungsi setConfigurationDefault(self, kernelSize) menginisiasi jumlah node convolution, detector dan pooling yang akan dipakai.`\n",
    "\n",
    "#### 2. executeConvolutionLayer(self)\n",
    "`Fungsi executeConvolutionLayer(self, kernelSize) mengeksekusi fungsi forward pada kelas Convolution, fungsi activate pada kelas Detector dan fungsi pool pada kelas Pooling.`"
   ]
  },
  {
   "cell_type": "markdown",
   "metadata": {},
   "source": [
    "### E. Dense\n",
    "Kelas Dense. Kelas Dense menerima variabel berupa:\n",
    "* weightarray\n",
    "* activation_function\n",
    "* leaky_slope\n",
    "* bias\n",
    "\n",
    "#### 1. calculateSigma(self, inputArray)\n",
    "`Fungsi calculateSigma(self, inputArray) menghasilkan matriks sigma berdasarkan matriks input, weight dan bias.`\n",
    "\n",
    "#### 2. forward_activation(self, X)\n",
    "`Fungsi forward_activation(self, X) mengaktivasi nilai input X sesuai fungsi aktivasi yang dipakai.`\n",
    "\n",
    "#### 3. activate(self)\n",
    "`Fungsi activate(self) mengubah nilai sigma menjadi nilai yang sudah diaktivasi (hasil fungsi forward_activation(self, X)).`\n",
    "\n",
    "#### 4. get_output(self, inputArray)\n",
    "`Fungsi get_output(self, inputArray) mengembalikan nilai sigma yang sudah diaktivasi berdasarkan inputArray.`"
   ]
  },
  {
   "cell_type": "markdown",
   "metadata": {},
   "source": [
    "### F. DenseLayer\n",
    "Kelas DenseLayer. Kelas DenseLayer menerima variabel berupa:\n",
    "* flatlength\n",
    "* nodeCount\n",
    "\n",
    "#### 1. initiateLayer(self)\n",
    "`Fungsi initiateLayer(self) menginisiasi jumlah node yang akan dipakai.`\n",
    "\n",
    "#### 2. executeDenseLayer(self, flatArray)\n",
    "`Fungsi executeDenseLayer(self, flatArray) mengeksekusi fungsi get_output(self, inputArray) pada kelas Dense.`"
   ]
  },
  {
   "cell_type": "markdown",
   "metadata": {},
   "source": [
    "### G. FlatteningLayer\n",
    "Kelas FlatteningLayer merupakan kelas pendukung untuk proses flattening.\n",
    "\n",
    "#### 1. flatten(self, featuremap)\n",
    "`Fungsi flatten(self, featuremap) mengembalikan input featuremap dalam bentuk satu dimensi.`"
   ]
  },
  {
   "cell_type": "markdown",
   "metadata": {},
   "source": [
    "### H. ConnectionMapper\n",
    "Kelas ConnectionMapper merupakan kelas pendukung untuk merepresentasikan koneksi pada non-fully connected layer. Kelas ConnectionMapper menerima variabel berupa:\n",
    "* previousNodeCount\n",
    "* nextNodeCount\n",
    "* connectionMap"
   ]
  },
  {
   "cell_type": "markdown",
   "metadata": {},
   "source": [
    "## &nbsp;II. Contoh Hasil Prediksi"
   ]
  },
  {
   "cell_type": "markdown",
   "metadata": {},
   "source": [
    "### Import"
   ]
  },
  {
   "cell_type": "code",
   "execution_count": 1,
   "metadata": {},
   "outputs": [],
   "source": [
    "import sys, os\n",
    "sys.path.append(os.path.abspath(os.path.join('..', 'src')))\n",
    "from main import test"
   ]
  },
  {
   "cell_type": "markdown",
   "metadata": {},
   "source": [
    "### Test 1\n",
    "#### cat.0.jpg\n",
    "Input size = 200\n",
    "\n",
    "Convolution Layer:\n",
    "- Filter count = 2\n",
    "- Filter size = 3\n",
    "- Padding size = 2\n",
    "- Stride size = 1\n",
    "\n",
    "Pooling Layer:\n",
    "- Filter size = 3\n",
    "- Stride size = 1\n",
    "- Pooling mode = AVG"
   ]
  },
  {
   "cell_type": "code",
   "execution_count": 2,
   "metadata": {},
   "outputs": [
    {
     "name": "stdout",
     "output_type": "stream",
     "text": [
      "CONVOLUTION LAYER RESULT\n",
      "[[[ 41.25573384  63.84808749  79.31160073 ... 102.51894884  97.190642\n",
      "    81.40206818]\n",
      "  [ 49.18307599  83.17713266 108.52964364 ... 138.25135746 133.10076608\n",
      "   118.77894317]\n",
      "  [ 54.43596329  95.60618494 126.54627759 ... 162.5384916  160.9343083\n",
      "   144.75410705]\n",
      "  ...\n",
      "  [ 37.42708956  66.80374671  87.15031502 ...   1.76077036   0.73254556\n",
      "     1.26288415]\n",
      "  [ 31.46087559  58.82367427  80.45145544 ...   1.91526671   0.75858392\n",
      "     1.28892251]\n",
      "  [ 22.63861661  44.54325147  62.4053709  ...   3.35187175   1.51702028\n",
      "     2.92617516]]\n",
      "\n",
      " [[  9.95112563  13.79668372  16.13066274 ...  19.37803376  18.34232864\n",
      "    13.6285928 ]\n",
      "  [  0.           0.           0.         ...   0.           0.\n",
      "     0.        ]\n",
      "  [  0.           0.           0.         ...   0.           0.\n",
      "     0.        ]\n",
      "  ...\n",
      "  [  0.           0.           0.         ...   4.13968847   3.73646316\n",
      "     2.28013306]\n",
      "  [  0.           0.           0.         ...   3.10746818   2.70424288\n",
      "     1.66402731]\n",
      "  [  0.           0.           0.         ...   2.55354127   2.72621932\n",
      "     1.85403517]]]\n",
      "(2, 200, 200)\n",
      "\n",
      "DENSE LAYER RESULT\n",
      "1.0\n"
     ]
    }
   ],
   "source": [
    "test(\"../test_data/cats/cat.0.jpg\", 200, 2, 3, 2, 1, 3, 1, 'AVG')"
   ]
  },
  {
   "cell_type": "markdown",
   "metadata": {},
   "source": [
    "### Test 2\n",
    "#### cat.2.jpg\n",
    "Input size = 100\n",
    "\n",
    "Convolution Layer:\n",
    "- Filter count = 3\n",
    "- Filter size = 2\n",
    "- Padding size = 1\n",
    "- Stride size = 1\n",
    "\n",
    "Pooling Layer:\n",
    "- Filter size = 2\n",
    "- Stride size = 1\n",
    "- Pooling mode = MAX"
   ]
  },
  {
   "cell_type": "code",
   "execution_count": 3,
   "metadata": {},
   "outputs": [
    {
     "name": "stdout",
     "output_type": "stream",
     "text": [
      "CONVOLUTION LAYER RESULT\n",
      "[[[ 45.17708695   4.30408065  13.7310616  ...  19.17026078  19.17026078\n",
      "    14.66501702]\n",
      "  [ 45.17708695  17.52222106   7.94978472 ...   9.7215814    5.28958216\n",
      "     0.        ]\n",
      "  [ 44.88394498  23.17393195   7.94978472 ...   9.7215814    7.70630661\n",
      "     2.17432215]\n",
      "  ...\n",
      "  [ 40.07068196  25.08968743  25.08968743 ...   1.57658555   6.36492854\n",
      "     6.36492854]\n",
      "  [ 38.13723852  30.56162529  30.56162529 ...   1.57658555  33.03593696\n",
      "    33.03593696]\n",
      "  [ 34.95986343  30.56162529  30.56162529 ...   8.13868654  33.03593696\n",
      "    33.03593696]]\n",
      "\n",
      " [[225.33096931 225.33096931 215.05122097 ... 262.29844098 262.29844098\n",
      "   252.74443164]\n",
      "  [322.79540166 359.99354108 359.99354108 ... 220.98055073 216.29800468\n",
      "   211.65744338]\n",
      "  [322.79540166 359.99354108 359.99354108 ... 210.66769462 213.91095078\n",
      "   213.91095078]\n",
      "  ...\n",
      "  [171.62135975 265.18253111 303.7171811  ...  94.73539999  94.73539999\n",
      "    74.36775786]\n",
      "  [159.08068543 228.55611566 285.96876537 ...  88.76946026 162.05600373\n",
      "   162.05600373]\n",
      "  [155.99417998 226.18497456 285.96876537 ...  73.78691177 162.05600373\n",
      "   162.05600373]]\n",
      "\n",
      " [[ 10.66879985   9.08200965   9.08200965 ...   0.40635138   0.40635138\n",
      "     0.        ]\n",
      "  [  5.69648933   0.           0.         ...   0.           0.\n",
      "     0.        ]\n",
      "  [  0.           0.           0.         ...   0.           0.\n",
      "     0.        ]\n",
      "  ...\n",
      "  [  0.           0.           0.         ...   0.           0.\n",
      "     0.        ]\n",
      "  [  0.           0.           0.         ...   0.           0.\n",
      "     0.        ]\n",
      "  [  0.           0.           0.         ...   0.           0.\n",
      "     0.        ]]]\n",
      "(3, 100, 100)\n",
      "\n",
      "DENSE LAYER RESULT\n",
      "1.0\n"
     ]
    }
   ],
   "source": [
    "test(\"../test_data/cats/cat.2.jpg\", 100, 3, 2, 1, 1, 2, 1, 'MAX')"
   ]
  },
  {
   "cell_type": "markdown",
   "metadata": {},
   "source": [
    "### Test 3\n",
    "#### dog.0.jpg\n",
    "Input size = 200\n",
    "\n",
    "Convolution Layer:\n",
    "- Filter count = 1\n",
    "- Filter size = 3\n",
    "- Padding size = 1\n",
    "- Stride size = 2\n",
    "\n",
    "Pooling Layer:\n",
    "- Filter size = 2\n",
    "- Stride size = 2\n",
    "- Pooling mode = MAX"
   ]
  },
  {
   "cell_type": "code",
   "execution_count": 4,
   "metadata": {},
   "outputs": [
    {
     "name": "stdout",
     "output_type": "stream",
     "text": [
      "CONVOLUTION LAYER RESULT\n",
      "[[[8.93022712 0.         1.45719346 ... 0.         4.7102763  0.95776745]\n",
      "  [9.60520683 0.         0.         ... 0.         0.         0.        ]\n",
      "  [0.         0.         0.         ... 0.         0.         0.        ]\n",
      "  ...\n",
      "  [1.21518566 0.         0.         ... 0.         0.         0.        ]\n",
      "  [4.51424186 0.         0.         ... 0.         0.         0.        ]\n",
      "  [1.25334689 0.         0.         ... 0.         0.         0.        ]]]\n",
      "(1, 51, 51)\n",
      "\n",
      "DENSE LAYER RESULT\n",
      "7.124576406741285e-218\n"
     ]
    }
   ],
   "source": [
    "test(\"../test_data/dogs/dog.0.jpg\", 200, 1, 3, 3, 2, 2, 2, 'MAX')"
   ]
  },
  {
   "cell_type": "markdown",
   "metadata": {},
   "source": [
    "### Test 4\n",
    "#### dog.3.jpg\n",
    "Input size = 150\n",
    "\n",
    "Convolution Layer:\n",
    "- Filter count = 1\n",
    "- Filter size = 4\n",
    "- Padding size = 2\n",
    "- Stride size = 3\n",
    "\n",
    "Pooling Layer:\n",
    "- Filter size = 3\n",
    "- Stride size = 3\n",
    "- Pooling mode = AVG"
   ]
  },
  {
   "cell_type": "code",
   "execution_count": 6,
   "metadata": {},
   "outputs": [
    {
     "name": "stdout",
     "output_type": "stream",
     "text": [
      "CONVOLUTION LAYER RESULT\n",
      "[[[54.20515839 69.50348297 69.43191903 55.4833995  28.14148055\n",
      "   66.34177533 68.77223028 68.03868531 50.36123654 70.09470327\n",
      "   63.80353194 64.61876488 63.1482455  56.78588991 55.20770474\n",
      "   54.79215864 48.41020608]\n",
      "  [52.45402797 78.84112851 81.09568662 76.97784639 40.16054863\n",
      "   57.67065653 76.02266546 64.97608555 58.28372897 70.96705542\n",
      "   72.88917534 78.64645548 71.09982318 70.51653139 63.75166871\n",
      "   62.05107679 58.72834857]\n",
      "  [52.08991336 79.88774122 74.11832939 46.82122454 43.64955005\n",
      "   35.42028485 34.80249119 26.98256901 58.47040671 66.73122751\n",
      "   66.1059884  67.42459256 71.1980741  68.64964298 71.05110988\n",
      "   69.79096948 59.3752297 ]\n",
      "  [54.94711393 72.43093807 66.91734346 25.94518189 14.01531427\n",
      "   23.28891168 18.54469856 19.49155937 60.32490868 76.94179341\n",
      "   78.62897551 76.83592993 70.56583456 69.80716541 70.48831521\n",
      "   70.59164942 62.28183752]\n",
      "  [56.4614289  35.89092767 17.65848098 20.18301728 21.56175772\n",
      "   20.19941264 17.37782981 18.9994011  68.88327902 68.76818538\n",
      "   68.86989517 66.37091409 70.29959785 65.44133907 71.85841553\n",
      "   64.50254675 65.14339683]\n",
      "  [44.79015259 33.31503902  7.88164456 16.24328214 15.70784468\n",
      "   25.85654483 22.93800268 18.33775944 66.51388436 70.97512341\n",
      "   69.02742521 72.76458966 72.00008406 69.55689851 64.80773879\n",
      "   58.74973283 60.64167563]\n",
      "  [45.32148898 56.59605221 18.98996269 10.80126986 11.00049803\n",
      "   40.68913933 35.43454623 30.62101544 54.91620277 62.14668772\n",
      "   63.73261805 71.67376779 77.41840117 65.86058503 65.51263355\n",
      "   58.55720817 46.90419752]\n",
      "  [45.47998442 64.36657529 72.24631445 62.89156193 55.37335564\n",
      "   46.21635323 42.05190452 40.35740273 46.15251294 23.38946219\n",
      "   19.55193493 35.97013607 17.39840052 10.55346792 15.22683777\n",
      "   20.64877257 23.98617762]\n",
      "  [41.32168528 65.30594773 63.58371419 56.64802264 56.47530136\n",
      "   49.50728107 52.00151996 43.48088373 34.69860733 14.25743759\n",
      "    7.45296493 17.39144174  6.18129539 12.75945321 12.93381212\n",
      "    8.82608567  8.07215044]\n",
      "  [46.66692826 63.91371884 63.67979015 65.84219595 63.6248479\n",
      "   54.08028091 53.10912768 36.19310073 18.52565739  9.79542287\n",
      "    8.10180807  5.72341314 12.81543877  6.92215262  8.83235814\n",
      "    8.82414809  9.50378702]\n",
      "  [45.23832603 65.12208781 64.75924214 65.98350104 67.97911318\n",
      "   59.43549727 49.68630168 29.02620871 17.61635888 10.8574894\n",
      "    9.74313073  6.47334724 11.30310024 10.53178204  7.19696881\n",
      "    6.18236903 14.42849649]\n",
      "  [44.67456466 64.88702436 61.05764404 65.04260168 60.32151835\n",
      "   62.65373086 54.93259929 37.1635251  24.58159094 13.52660082\n",
      "   12.8653127   7.89761932 10.01091977  6.86433855  7.75709592\n",
      "   11.0923152  22.18554523]\n",
      "  [43.88958819 62.13521109 63.92079217 62.31680175 60.61343179\n",
      "   65.97273833 57.89142579 44.46082341 25.61061726 17.55457567\n",
      "    4.83224934 13.00128547 12.72219844 15.49242878 19.75247088\n",
      "   20.16027594 32.03247813]\n",
      "  [46.40377807 58.94115362 62.44726226 60.59389638 63.10052467\n",
      "   61.54409443 59.79085743 43.77090425 27.73463471 21.91369508\n",
      "   13.47302192 19.36999057 16.77585953 15.64443316 19.07256912\n",
      "   23.48475278 33.11244572]\n",
      "  [42.58133129 63.92157709 58.25495688 63.335853   59.66714654\n",
      "   61.85170539 60.79645953 45.17808428 25.38678704 27.10010758\n",
      "   24.45494588 24.32599225 28.0723932  32.0188284  42.49987899\n",
      "   57.73640175 53.03160616]\n",
      "  [42.30199042 55.92797825 59.52863405 57.21315294 62.49721343\n",
      "   65.18834964 62.15039014 43.90873444 32.58165572 38.55773934\n",
      "   44.16036453 58.3555039  63.78731721 59.17503148 61.30564264\n",
      "   60.69842615 57.12698164]\n",
      "  [31.42658391 43.548008   44.82807991 46.38516706 48.84624806\n",
      "   45.37348893 44.89527022 37.7080072  27.2457213  32.3170272\n",
      "   45.72720839 46.05330096 43.5593177  45.69294458 46.74965487\n",
      "   45.67290052 43.55872675]]]\n",
      "(1, 17, 17)\n",
      "\n",
      "DENSE LAYER RESULT\n",
      "1.0\n"
     ]
    }
   ],
   "source": [
    "test(\"../test_data/dogs/dog.3.jpg\", 150, 1, 4, 2, 3, 3, 3, 'AVG')"
   ]
  },
  {
   "cell_type": "markdown",
   "metadata": {},
   "source": [
    "## III. Pembagian Tugas"
   ]
  },
  {
   "cell_type": "markdown",
   "metadata": {},
   "source": [
    "| NIM      | Nama              | Tugas                                                                  |\n",
    "|:--------:|:------------------|:-----------------------------------------------------------------------|\n",
    "| 13517073 | Rayza Mahendra    | Detector, Dense Layer, Extract |\n",
    "| 13517131 | Jan Meyer Saragih | Pooling, Convolution Layer |\n",
    "| 13517137 | Vincent Budianto  | Convolution, Laporan |"
   ]
  }
 ],
 "metadata": {
  "kernelspec": {
   "display_name": "Python 3",
   "language": "python",
   "name": "python3"
  },
  "language_info": {
   "codemirror_mode": {
    "name": "ipython",
    "version": 3
   },
   "file_extension": ".py",
   "mimetype": "text/x-python",
   "name": "python",
   "nbconvert_exporter": "python",
   "pygments_lexer": "ipython3",
   "version": "3.8.5"
  }
 },
 "nbformat": 4,
 "nbformat_minor": 2
}
